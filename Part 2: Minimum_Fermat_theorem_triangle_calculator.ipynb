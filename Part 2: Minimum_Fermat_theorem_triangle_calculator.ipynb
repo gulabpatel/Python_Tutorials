{
  "nbformat": 4,
  "nbformat_minor": 0,
  "metadata": {
    "colab": {
      "name": "Part 2: Minimum_Rermat_theorem_triangle_calculator.ipynb",
      "provenance": [],
      "collapsed_sections": [],
      "toc_visible": true,
      "include_colab_link": true
    },
    "kernelspec": {
      "name": "python3",
      "display_name": "Python 3"
    }
  },
  "cells": [
    {
      "cell_type": "markdown",
      "metadata": {
        "id": "view-in-github",
        "colab_type": "text"
      },
      "source": [
        "<a href=\"https://colab.research.google.com/github/gulabpatel/Python-Tutorials/blob/master/Part_2_Minimum_Rermat_theorem_triangle_calculator.ipynb\" target=\"_parent\"><img src=\"https://colab.research.google.com/assets/colab-badge.svg\" alt=\"Open In Colab\"/></a>"
      ]
    },
    {
      "cell_type": "markdown",
      "metadata": {
        "id": "85Po9342eFZZ"
      },
      "source": [
        "##Q. Min Min Min\n",
        "Write a program that does the following\n",
        "- Takes 3 numbers as input from the user\n",
        "- Finds minimum of the 3 numbers and prints it"
      ]
    },
    {
      "cell_type": "code",
      "metadata": {
        "id": "wPjz3AvIeYPG",
        "outputId": "4a2fe6dc-16be-46bc-8699-bde180ae96e2",
        "colab": {
          "base_uri": "https://localhost:8080/",
          "height": 85
        }
      },
      "source": [
        "### Write your code here   Here is the first approach\n",
        "a = int(input('Enter the first number  '))\n",
        "b = int(input('Enter the second number  '))\n",
        "c = int(input('Enter the third number  '))\n",
        "if(a < b):\n",
        "  if(b < c): \n",
        "    print(a, \" is the minimum number\")\n",
        "  elif(a < c):\n",
        "    print(a, ' is the minimum number')\n",
        "  else:\n",
        "    print(c,' is the minmum number')\n",
        "else:\n",
        "  if(a < c):\n",
        "    print(b, ' is the minimum number')\n",
        "  elif(b < a):\n",
        "    print(b, ' is the minimum number')\n",
        "  else:\n",
        "    print(c, ' is the minimum number')"
      ],
      "execution_count": null,
      "outputs": [
        {
          "output_type": "stream",
          "text": [
            "Enter the first number  20\n",
            "Enter the second number  10\n",
            "Enter the third number  30\n",
            "10  is the minimum number\n"
          ],
          "name": "stdout"
        }
      ]
    },
    {
      "cell_type": "code",
      "metadata": {
        "id": "YSLz1xQlBisK",
        "outputId": "c8d0048e-b358-416c-f2ca-99cc455a1692",
        "colab": {
          "base_uri": "https://localhost:8080/",
          "height": 85
        }
      },
      "source": [
        "### Write your code here   Here is the second approach\n",
        "a = int(input('Enter the first number  '))\n",
        "b = int(input('Enter the second number  '))\n",
        "c = int(input('Enter the third number  '))\n",
        "if(a < b):\n",
        "  if(a < c): \n",
        "    print(a,\" is the minimum number\")\n",
        "  else:\n",
        "    print(c,' is the minmum number')\n",
        "else:\n",
        "  if(b < c):\n",
        "    print(b,' is the minimum number')\n",
        "  else:\n",
        "    print(c,' is the minimum number')"
      ],
      "execution_count": null,
      "outputs": [
        {
          "output_type": "stream",
          "text": [
            "Enter the first number  20\n",
            "Enter the second number  10\n",
            "Enter the third number  30\n",
            "10  is the minimum number\n"
          ],
          "name": "stdout"
        }
      ]
    },
    {
      "cell_type": "code",
      "metadata": {
        "id": "Snkq85vqCMtD",
        "outputId": "3aaa1b8e-72c9-4502-cdb7-c03246675833",
        "colab": {
          "base_uri": "https://localhost:8080/",
          "height": 85
        }
      },
      "source": [
        "### Write your code here   Here is the third approach\n",
        "a = int(input('Enter the first number  '))\n",
        "b = int(input('Enter the second number  '))\n",
        "c = int(input('Enter the third number  '))\n",
        "if(a <= b and a <= c):\n",
        "    print(a,\" is the minimum number\")\n",
        "elif(b <= a and b <= c):\n",
        "    print(b,' is the minmum number')\n",
        "else:\n",
        "    print(c,' is the minimum number')"
      ],
      "execution_count": null,
      "outputs": [
        {
          "output_type": "stream",
          "text": [
            "Enter the first number  20\n",
            "Enter the second number  10\n",
            "Enter the third number  30\n",
            "10  is the minmum number\n"
          ],
          "name": "stdout"
        }
      ]
    },
    {
      "cell_type": "markdown",
      "metadata": {
        "id": "7GZnA2DVZnfg"
      },
      "source": [
        "#Q. Proving Fermat\n",
        "Fermat's last theorem says that there are no positive integers $a, b, c$ such that \n",
        "$$\n",
        "a^n + b^n = c^n\n",
        "$$\n",
        "for any values of $n > 2$\n",
        "- Write a function named ```check_fermat``` that takes four parameters - ```a, b, c``` and ```n``` and checks to see if fermat's theorem holds. If ```n > 2``` and it turns out to be true that \n",
        "$$\n",
        "a^n + b^n = c^n\n",
        "$$ the function should print, \"Oh No! Fermat was wrong!\". Otherwise the function should print, \"No that doesn't work\"\n",
        "- Write a program that takes four inputs from the users - ```a, b, c``` and ```n``` and converts them to integers and uses check_fermat to check whether they violate Fermat's theorem."
      ]
    },
    {
      "cell_type": "code",
      "metadata": {
        "id": "5ca0eTDbZZG4",
        "outputId": "47537f56-da95-49ef-d01f-cbfe96c03331",
        "colab": {
          "base_uri": "https://localhost:8080/",
          "height": 102
        }
      },
      "source": [
        "### Write your code here\n",
        "a = int(input('Enter the first number  '))\n",
        "b = int(input('Enter the second number  '))\n",
        "c = int(input('Enter the third number  '))\n",
        "n = int(input('Enter the integer value  '))\n",
        "def check_fermat(a,b,c,n):\n",
        "  if(a**n + b**n == c**n):\n",
        "    print('\"Oh No! Fermat was wrong\"')\n",
        "  else:\n",
        "    print('\"No that doesnt work\"')\n",
        "\n",
        "check_fermat(a,b,c,n)   \n"
      ],
      "execution_count": null,
      "outputs": [
        {
          "output_type": "stream",
          "text": [
            "Enter the first number  3987\n",
            "Enter the second number  4365\n",
            "Enter the third number  4472\n",
            "Enter the integer value  12\n",
            "\"No that doesnt work\"\n"
          ],
          "name": "stdout"
        }
      ]
    },
    {
      "cell_type": "markdown",
      "metadata": {
        "id": "htwKREd7bD_g"
      },
      "source": [
        "#Q. Potential triangularity\n",
        "If you are given three sticks, you may or may not be able to arrange them in a triangle. For example,if one of the sticks is 12inches long and the other two are  1inch long, it is clear that you will not be able to get the short sticks to meet in the middle. For any three lengths, there is a simple test to see if it is possible to form a triangle. \n",
        "\n",
        "_If any of the three lengths is greater than the sum of the other two, then you cannot form a triangle. Otherwise, you can. (If the sum of two lengths equals the third, they form what is called a “degenerate” triangle or a straight line segment.)_\n",
        "\n",
        "- Write a function named ```is_triangle``` that takes three integers as arguments, and that prints either \"Yes\" or \"No\", depending on whether you can or cannot form a triangle using sticks of given lengths.\n",
        "- Write a function that prompts the user to input three stick lengths, converts them to integers, and uses is_triangle to check whether sitcks with the given lengths can form a triangle. "
      ]
    },
    {
      "cell_type": "code",
      "metadata": {
        "id": "QI1ZvUzLcWSS",
        "outputId": "ff147895-70f1-463e-d78f-77009c0ecbaa",
        "colab": {
          "base_uri": "https://localhost:8080/",
          "height": 87
        }
      },
      "source": [
        "### Write your code here\n",
        "a = int(input('Enter the first side  '))\n",
        "b = int(input('Enter the second side  '))\n",
        "c = int(input('Enter the third side  '))\n",
        "\n",
        "def min_value(a,b,c):\n",
        "  if(a <= b and a <= c):\n",
        "    return a\n",
        "  elif(b <= a and b <= c):\n",
        "    return b\n",
        "  else:\n",
        "    return c\n",
        "a1 = min_value(a,b,c)\n",
        "print(a1)\n",
        " "
      ],
      "execution_count": null,
      "outputs": [
        {
          "output_type": "stream",
          "text": [
            "Enter the first side  4\n",
            "Enter the second side  6\n",
            "Enter the third side  8\n",
            "4\n"
          ],
          "name": "stdout"
        }
      ]
    },
    {
      "cell_type": "code",
      "metadata": {
        "id": "1UmTe-zFVIcb",
        "outputId": "2d5651fe-5698-4d66-bd66-5de9d30f07d2",
        "colab": {
          "base_uri": "https://localhost:8080/",
          "height": 70
        }
      },
      "source": [
        "def max_value(a,b,c):\n",
        "  if(b <= a and c <= a):\n",
        "    return a\n",
        "  elif(a <= b and c <= b):\n",
        "    return b\n",
        "  else:\n",
        "    return c\n",
        "\n",
        "a2 = max_value(a,b,c)\n",
        "print(a2)\n",
        "a3 = a+b+c-a1-a2\n",
        "print(a3 )"
      ],
      "execution_count": null,
      "outputs": [
        {
          "output_type": "stream",
          "text": [
            "8\n",
            "6\n",
            "ERROR! Session/line number was not unique in database. History logging moved to new session 59\n"
          ],
          "name": "stdout"
        }
      ]
    },
    {
      "cell_type": "code",
      "metadata": {
        "id": "BKzaYZAbVtU2",
        "outputId": "dda26e58-8115-4d5a-a8d9-221f69b7b698",
        "colab": {
          "base_uri": "https://localhost:8080/",
          "height": 34
        }
      },
      "source": [
        "def is_triangle(a1,a2,a3):\n",
        "   if(a1+a2 < a3):\n",
        "      print('Triagle is not possible')\n",
        "   elif(a1+a2 == a3):\n",
        "      print('Given lengths form degenerate triangle or line segment')\n",
        "   else:\n",
        "      print('Given lengths form a triangle')\n",
        "\n",
        "is_triangle(a1,a2,a3)"
      ],
      "execution_count": null,
      "outputs": [
        {
          "output_type": "stream",
          "text": [
            "Given lengths form a triangle\n"
          ],
          "name": "stdout"
        }
      ]
    },
    {
      "cell_type": "markdown",
      "metadata": {
        "id": "KOR45AN7hL4e"
      },
      "source": [
        "#Q. Basic Calculator\n",
        "- Write a function that takes three arguments - ```op1, op2``` and ```operator``` and prints the result ```op1 operator op2```. <br>\n",
        "Eg., for ```op1 = 1```, ```op2 = 2``` and ```operator = '+' ```, the function prints ```3``` as the result (```1 + 2```). <br>\n",
        "Assume that the operator can be one of the following : ```+, -, *, /, %``` <br>\n",
        "- Write a program that takes 3 inputs from the user - two numbers and an operator and uses the calculator function to print the result."
      ]
    },
    {
      "cell_type": "code",
      "metadata": {
        "id": "65ifLibhhM3c",
        "outputId": "cd2d756b-5792-4ffb-c038-2ac6ae836cae",
        "colab": {
          "base_uri": "https://localhost:8080/",
          "height": 105
        }
      },
      "source": [
        "#### Write your code here\n",
        "def Basic_Calculator(op1,op2,operator):\n",
        "        if(operator == \"+\"):\n",
        "          print(\"Sum of two number is: \", op1 + op2)\n",
        "        elif(operator == '-'):\n",
        "          print(\"Substraction of two number is: \", op1 - op2)\n",
        "        elif(operator == '*'):\n",
        "          print(\"Multiplication of two number is: \", op1*op2)\n",
        "        elif(operator == '/'):\n",
        "          print(\"Division of two number is: \", op1/op2)\n",
        "        elif(operator == '%'):\n",
        "          print(\"Modulus of two number is: \", op1%op2)\n",
        "        elif(operator == '//'):\n",
        "          print(\"Floor division of two number is: \", op1//op2)\n",
        "        else:\n",
        "          print(\"You have not entered a valid operator, please run the program again.\")\n",
        "\n",
        "op1 = float(input('Enter the first value: '))\n",
        "op2 = float(input('Enter the second value:  '))\n",
        "operator = input('Enter the arithmetic operator:  ')\n",
        "Basic_Calculator(op1,op2,operator)"
      ],
      "execution_count": null,
      "outputs": [
        {
          "output_type": "stream",
          "text": [
            "ERROR! Session/line number was not unique in database. History logging moved to new session 59\n",
            "Enter the first value: 4\n",
            "Enter the second value:  7\n",
            "Enter the arithmetic operator:  *\n",
            "Multiplication of two number is:  28.0\n"
          ],
          "name": "stdout"
        }
      ]
    },
    {
      "cell_type": "code",
      "metadata": {
        "id": "P1U8nrJMmOjM"
      },
      "source": [
        ""
      ],
      "execution_count": null,
      "outputs": []
    }
  ]
}
