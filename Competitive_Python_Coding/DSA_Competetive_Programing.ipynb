{
  "nbformat": 4,
  "nbformat_minor": 0,
  "metadata": {
    "colab": {
      "name": "DSA_Competetive Programing.ipynb",
      "provenance": [],
      "collapsed_sections": [],
      "toc_visible": true,
      "authorship_tag": "ABX9TyMbg9cNSjm5i/ecQ3Mr4TyT",
      "include_colab_link": true
    },
    "kernelspec": {
      "name": "python3",
      "display_name": "Python 3"
    },
    "language_info": {
      "name": "python"
    }
  },
  "cells": [
    {
      "cell_type": "markdown",
      "metadata": {
        "id": "view-in-github",
        "colab_type": "text"
      },
      "source": [
        "<a href=\"https://colab.research.google.com/github/gulabpatel/Python_Tutorials/blob/master/Competitive_Python_Coding/DSA_Competetive_Programing.ipynb\" target=\"_parent\"><img src=\"https://colab.research.google.com/assets/colab-badge.svg\" alt=\"Open In Colab\"/></a>"
      ]
    },
    {
      "cell_type": "markdown",
      "source": [
        "#0 Convert biased coin into unbiased"
      ],
      "metadata": {
        "id": "kh6Q3Pbd2vvQ"
      }
    },
    {
      "cell_type": "code",
      "source": [
        "2"
      ],
      "metadata": {
        "colab": {
          "base_uri": "https://localhost:8080/"
        },
        "id": "JGEwT4zfoTNt",
        "outputId": "e43e3019-e6ab-4fa0-fbe5-3a5c12785490"
      },
      "execution_count": null,
      "outputs": [
        {
          "output_type": "execute_result",
          "data": {
            "text/plain": [
              "2"
            ]
          },
          "metadata": {},
          "execution_count": 1
        }
      ]
    },
    {
      "cell_type": "code",
      "source": [
        "a = [1,1,3,2,4,5]\n",
        "a = a.remove(3)\n",
        "a"
      ],
      "metadata": {
        "id": "mMcUJw6EoUFL"
      },
      "execution_count": null,
      "outputs": []
    },
    {
      "cell_type": "code",
      "source": [
        "a"
      ],
      "metadata": {
        "id": "RHRO6AtOoftJ"
      },
      "execution_count": null,
      "outputs": []
    },
    {
      "cell_type": "code",
      "source": [
        "from random import randint\n",
        "HEADS, TAILS = 1, 0\n",
        "# A biased function that returns TAILS with 80% probability and HEADS with 20% probability\n",
        "def biased():\n",
        "    # generate a random number between 0–99, both inclusive\n",
        "    r = randint(0, 99) \n",
        "    # return TAILS if we got a number between [0–79]; otherwise, return HEADS\n",
        "    # random.random()\n",
        "    # A = [0]*8 + [1]*2    #return random.choice(A)\n",
        "    return TAILS if (r <= 79) else HEADS\n",
        " \n",
        "# Return HEADS and TAILS with equal probability using the specified function\n",
        "def generate():\n",
        "    while True:\n",
        "        first = biased()\n",
        "        second = biased()\n",
        "        if first is not second:\n",
        "            return first   # or return second\n",
        " \n",
        "if __name__ == '__main__':\n",
        "    x = y = 0\n",
        "    for i in range(10000):\n",
        "        val = generate()\n",
        "        if val > 0:\n",
        "            x += 1\n",
        "        else:\n",
        "            y += 1\n",
        "    print('HEADS ~', x / 100, '%')        # ~50%\n",
        "    print('TAILS ~', y / 100, '%')        # ~50%"
      ],
      "metadata": {
        "id": "gkv0P1XmGcJO",
        "colab": {
          "base_uri": "https://localhost:8080/"
        },
        "outputId": "80f0bb8f-8141-4efc-b44c-e4f0fe25025b"
      },
      "execution_count": null,
      "outputs": [
        {
          "output_type": "stream",
          "name": "stdout",
          "text": [
            "HEADS ~ 49.21 %\n",
            "TAILS ~ 50.79 %\n"
          ]
        }
      ]
    },
    {
      "cell_type": "code",
      "source": [
        "# Python3 program to Generate integer from 1 to 7 with equal probability\n",
        "# given method that returns 1 to 5 with equal probability\n",
        "def foo():\n",
        "\t# some code here\n",
        "\treturn randint(1,5)\n",
        "\n",
        "# returns 1 to 7 with equal probability\n",
        "def my_rand():\n",
        "\ti = 0\n",
        "\ti = (5 * foo()) + (foo() - 5)\n",
        "\tif (i < 22):\n",
        "\t\t# if(i < 0):\n",
        "\t\t# \treturn (i % 7 - 7) + 1\n",
        "\t\t# else:\n",
        "\t\t\treturn (i % 7) + 1\n",
        "\n",
        "\treturn my_rand()\n",
        "\n",
        "# Driver code\n",
        "if __name__ == '__main__':\n",
        "  x1, x2, x3, x4, x5, x6, x7 = 0, 0, 0, 0, 0, 0, 0\n",
        "  for i in range(1000000):\n",
        "      val = my_rand()\n",
        "      if val == 1:\n",
        "        x1 += 1\n",
        "      elif val == 2:\n",
        "        x2 += 1\n",
        "      elif val == 3:\n",
        "        x3 += 1\n",
        "      elif val == 4:\n",
        "        x4 += 1\n",
        "      elif val == 5:\n",
        "        x5 += 1\n",
        "      elif val == 6:\n",
        "        x6 += 1\n",
        "      else:\n",
        "        x7 += 1\n",
        "  print('X1 ~', x1 / 10000, '%')        \n",
        "  print('X2 ~', x2 / 10000, '%')        \n",
        "  print('X3 ~', x3 / 10000, '%')        \n",
        "  print('X4 ~', x4 / 10000, '%')       \n",
        "  print('X5 ~', x5 / 10000, '%')        \n",
        "  print('X6 ~', x6 / 10000, '%')       \n",
        "  print('X7 ~', x7 / 10000, '%')        "
      ],
      "metadata": {
        "colab": {
          "base_uri": "https://localhost:8080/"
        },
        "id": "HZEeViXL6JIM",
        "outputId": "813e07eb-6b14-4064-9215-5187f8db60db"
      },
      "execution_count": null,
      "outputs": [
        {
          "output_type": "stream",
          "name": "stdout",
          "text": [
            "X1 ~ 14.2944 %\n",
            "X2 ~ 14.2893 %\n",
            "X3 ~ 14.2581 %\n",
            "X4 ~ 14.2543 %\n",
            "X5 ~ 14.3135 %\n",
            "X6 ~ 14.2752 %\n",
            "X7 ~ 14.3152 %\n"
          ]
        }
      ]
    },
    {
      "cell_type": "code",
      "source": [
        "# # Python3 program to Generate integer from 1 to 5 with equal probability\n",
        "# # given method that returns 0 or 1 with equal probability\n",
        "# def foo():\n",
        "# \t# some code here\n",
        "# \treturn randint(0,1)\n",
        "\n",
        "# # returns 1 to 7 with equal probability\n",
        "# def my_rand():\n",
        "# \ti = 0\n",
        "# \ti = (5 * foo()) + 1  #1,6\n",
        "# \tfor j in range(5):\n",
        "# \t\t\treturn (i*j % 5) + 1\n",
        "\n",
        "# \treturn my_rand()\n",
        "\n",
        "# # Driver code\n",
        "# if __name__ == '__main__':\n",
        "#   x1, x2, x3, x4, x5 = 0, 0, 0, 0, 0\n",
        "#   for i in range(1000000):\n",
        "#       val = my_rand()\n",
        "#       if val == 1:\n",
        "#         x1 += 1\n",
        "#       elif val == 2:\n",
        "#         x2 += 1\n",
        "#       elif val == 3:\n",
        "#         x3 += 1\n",
        "#       elif val == 4:\n",
        "#         x4 += 1\n",
        "#       else:\n",
        "#         x5 += 1\n",
        "#   print('X1 ~', x1 / 10000, '%')        \n",
        "#   print('X2 ~', x2 / 10000, '%')        \n",
        "#   print('X3 ~', x3 / 10000, '%')        \n",
        "#   print('X4 ~', x4 / 10000, '%')       \n",
        "#   print('X5 ~', x5 / 10000, '%')         "
      ],
      "metadata": {
        "colab": {
          "base_uri": "https://localhost:8080/",
          "height": 131
        },
        "id": "ktgndtPLACif",
        "outputId": "1f2d6eb0-d960-4682-ae58-d82a09ee8340"
      },
      "execution_count": null,
      "outputs": [
        {
          "output_type": "error",
          "ename": "SyntaxError",
          "evalue": "ignored",
          "traceback": [
            "\u001b[0;36m  File \u001b[0;32m\"<ipython-input-53-f123ef3c340f>\"\u001b[0;36m, line \u001b[0;32m11\u001b[0m\n\u001b[0;31m    for j in range(5)\u001b[0m\n\u001b[0m                     ^\u001b[0m\n\u001b[0;31mSyntaxError\u001b[0m\u001b[0;31m:\u001b[0m invalid syntax\n"
          ]
        }
      ]
    },
    {
      "cell_type": "markdown",
      "source": [
        "# 1 Sort in ascending order Bubble Sort"
      ],
      "metadata": {
        "id": "CpdGbjhYrFFG"
      }
    },
    {
      "cell_type": "code",
      "source": [
        "arr = [5, 2, 8, 7, 1];     \n",
        "temp = 0;         \n",
        "#Sort the array in ascending order    \n",
        "for i in range(0, len(arr)):    \n",
        "    for j in range(i+1, len(arr)):    \n",
        "        if(arr[i] > arr[j]):    \n",
        "            temp = arr[i];    \n",
        "            arr[i] = arr[j];    \n",
        "            arr[j] = temp;    \n",
        "arr      "
      ],
      "metadata": {
        "colab": {
          "base_uri": "https://localhost:8080/"
        },
        "id": "wQubDMO-Gmo2",
        "outputId": "47e91068-6a5f-40b7-e20e-3df2c3b2137f"
      },
      "execution_count": null,
      "outputs": [
        {
          "output_type": "execute_result",
          "data": {
            "text/plain": [
              "[1, 2, 5, 7, 8]"
            ]
          },
          "metadata": {},
          "execution_count": 31
        }
      ]
    },
    {
      "cell_type": "markdown",
      "source": [
        "#2 Reverse array"
      ],
      "metadata": {
        "id": "ryTWDmu6rOhk"
      }
    },
    {
      "cell_type": "code",
      "source": [
        "# Example input list of numbers\n",
        "numbers = [0, 1, 2, 3, 4, 5, 6, 7, 8, 9]\n",
        "L = len(numbers)\n",
        "# i goes from 0 to the middle\n",
        "for i in range(int(L/2)):\n",
        "    # Swap each number with the number in \n",
        "    # the mirror position for example first and last\n",
        "    n = numbers[i]\n",
        "    numbers[i] = numbers[L-i-1]\n",
        "    numbers[L-i-1] = n\n",
        "numbers"
      ],
      "metadata": {
        "colab": {
          "base_uri": "https://localhost:8080/"
        },
        "id": "eF70AMHBGelb",
        "outputId": "8105cb4a-3983-47e3-9113-1a04e1d9b16e"
      },
      "execution_count": null,
      "outputs": [
        {
          "output_type": "execute_result",
          "data": {
            "text/plain": [
              "[9, 8, 7, 6, 5, 4, 3, 2, 1, 0]"
            ]
          },
          "metadata": {},
          "execution_count": 32
        }
      ]
    },
    {
      "cell_type": "markdown",
      "source": [
        "#3 Find array Min and Max"
      ],
      "metadata": {
        "id": "tFySwsR8rWH3"
      }
    },
    {
      "cell_type": "code",
      "source": [
        "def findMax(a):\n",
        "  max, min = 0, 0\n",
        "  for i in range(len(a)):\n",
        "    if(a[i]<min):\n",
        "      min = a[i]\n",
        "    if(a[i]>max):\n",
        "      max = a[i]\n",
        "  return max, min\n",
        "\n",
        "findMax([9, 8, 7, 6, 0, 5, 4, 3, 2, 1])"
      ],
      "metadata": {
        "colab": {
          "base_uri": "https://localhost:8080/"
        },
        "id": "rt8e3e5oirRT",
        "outputId": "48ba6a64-fd5f-46e4-bde1-8a9e6116ee54"
      },
      "execution_count": null,
      "outputs": [
        {
          "output_type": "execute_result",
          "data": {
            "text/plain": [
              "(9, 0)"
            ]
          },
          "metadata": {},
          "execution_count": 33
        }
      ]
    },
    {
      "cell_type": "markdown",
      "source": [
        "#4 Reverse string"
      ],
      "metadata": {
        "id": "D8D_3VMwrcCm"
      }
    },
    {
      "cell_type": "code",
      "source": [
        "def reverse(s):\n",
        "    if len(s) == 0:\n",
        "        return s\n",
        "\n",
        "    return reverse(s[1:]) + s[0]\n",
        "Str = 'house'\n",
        "\n",
        "reverse(Str)"
      ],
      "metadata": {
        "id": "xaXlGNYffnjF",
        "colab": {
          "base_uri": "https://localhost:8080/",
          "height": 35
        },
        "outputId": "fbaced30-096f-40b5-8d19-a6e9f3535aa9"
      },
      "execution_count": null,
      "outputs": [
        {
          "output_type": "execute_result",
          "data": {
            "text/plain": [
              "'esuoh'"
            ],
            "application/vnd.google.colaboratory.intrinsic+json": {
              "type": "string"
            }
          },
          "metadata": {},
          "execution_count": 41
        }
      ]
    },
    {
      "cell_type": "markdown",
      "source": [
        "#5 Write a program to find the least positive integer missing from a list of inputs integers.\n",
        "\n",
        "Ex:- [1,-1,3,7,8,0,2,5,-6]<br>\n",
        "output: 4\n",
        "\n",
        "Ex:- [3,7,-1,8,9,10]<br>\n",
        "output: 1\n"
      ],
      "metadata": {
        "id": "mF35rtTVZ3im"
      }
    },
    {
      "cell_type": "code",
      "source": [
        "list_inp = [1,-1,3,7,8,0,2,5,-6]\n",
        "comparing_list = list(range(1,len(list_inp)+1))\n",
        "for i in range(len(list_inp)):\n",
        "  if (list_inp[i]>0):\n",
        "    comparing_list.remove(list_inp[i])\n",
        "comparing_list"
      ],
      "metadata": {
        "colab": {
          "base_uri": "https://localhost:8080/"
        },
        "id": "RpdJdRcNbgxI",
        "outputId": "b9eafdce-0fba-4dd7-94a8-76c0b4e6e0ce"
      },
      "execution_count": null,
      "outputs": [
        {
          "output_type": "execute_result",
          "data": {
            "text/plain": [
              "[4, 6, 9]"
            ]
          },
          "metadata": {},
          "execution_count": 5
        }
      ]
    },
    {
      "cell_type": "markdown",
      "source": [
        "#6  Returns an highest length word from the string\n",
        "\n",
        "Ex: Hello, this is Gulabpatel<br>\n",
        "output: Gulabpatel\n",
        "\n",
        "Ex: Hello this is Gulab from united states of India\n",
        "\n",
        "output: united"
      ],
      "metadata": {
        "id": "pDW-NvgomRey"
      }
    },
    {
      "cell_type": "code",
      "source": [
        "test0 = {'input': {'text': \"this is Gulab\"},\n",
        "         'output': \"Gulab\"}\n",
        "test1 = {'input': {'text': ''},\n",
        "         'output': -1}\n",
        "test2 = {'input': {'text': \"this this this\"},\n",
        "         'output': \"this\"}\n",
        "tests = [test0,test1,test2]"
      ],
      "metadata": {
        "id": "RIjWkBOEckuB"
      },
      "execution_count": null,
      "outputs": []
    },
    {
      "cell_type": "code",
      "source": [
        "def mex_len_string(text):\n",
        "  text = text.split()\n",
        "  # print(\"text \", text)\n",
        "  max=0\n",
        "  index=0\n",
        "  if len(text)==0:\n",
        "    return -1\n",
        "  else:\n",
        "    for i in range(len(text)):\n",
        "      if len(text[i])>max:\n",
        "        max=len(text[i])\n",
        "        index = i\n",
        "  return text[index]\n",
        "mex_len_string(test2['input']['text'])"
      ],
      "metadata": {
        "colab": {
          "base_uri": "https://localhost:8080/",
          "height": 35
        },
        "id": "ODvLn2kWckfY",
        "outputId": "3d35fdd8-d49b-4339-a257-fe2ac4e3e114"
      },
      "execution_count": null,
      "outputs": [
        {
          "output_type": "execute_result",
          "data": {
            "text/plain": [
              "'this'"
            ],
            "application/vnd.google.colaboratory.intrinsic+json": {
              "type": "string"
            }
          },
          "metadata": {},
          "execution_count": 19
        }
      ]
    },
    {
      "cell_type": "markdown",
      "source": [
        "#6.1 Find missing numbers in a list"
      ],
      "metadata": {
        "id": "4ApUMqxFVqaB"
      }
    },
    {
      "cell_type": "code",
      "source": [
        "lst = [6,7,10,11,13]\n",
        "def missing_numbers_1(lst):\n",
        "  return [x for x in range(lst[0], lst[-1]+1) if x not in lst]\n",
        "\n",
        "missing_numbers_1(lst) ##T(n) = O(n^2)"
      ],
      "metadata": {
        "colab": {
          "base_uri": "https://localhost:8080/"
        },
        "id": "uR7eaRbqVy9n",
        "outputId": "abcb974f-4a2e-4ae5-d062-815499b4fd75"
      },
      "execution_count": null,
      "outputs": [
        {
          "output_type": "execute_result",
          "data": {
            "text/plain": [
              "[8, 9, 12]"
            ]
          },
          "metadata": {},
          "execution_count": 3
        }
      ]
    },
    {
      "cell_type": "code",
      "source": [
        "def missing_numbers_2(lst,n):\n",
        "  b = [0]*(lst[n-1]+1)\n",
        "  for i in range(n):\n",
        "    b[lst[i]] = 1\n",
        "  for i in range(lst[0], lst[n-1]+1):\n",
        "    if b[i]==0:\n",
        "      print(i, end=\" \")\n",
        "\n",
        "lst = [6,7,10,11,13]\n",
        "n = len(lst)\n",
        "missing_numbers_2(lst,n) ##T(n) = n + n = O(n)"
      ],
      "metadata": {
        "colab": {
          "base_uri": "https://localhost:8080/"
        },
        "id": "lcArxAppYbsn",
        "outputId": "e05e58ee-884d-4ecf-c4c2-1931cb42771f"
      },
      "execution_count": null,
      "outputs": [
        {
          "output_type": "stream",
          "name": "stdout",
          "text": [
            "8 9 12 "
          ]
        }
      ]
    },
    {
      "cell_type": "code",
      "source": [
        "def missing_numbers_3(lst, n):\n",
        "  c = 0\n",
        "  for i in range(lst[0], lst[n-1]+1):\n",
        "    if (lst[c] == i):\n",
        "      c+=1\n",
        "    else:\n",
        "      print(i, end=\" \")\n",
        "\n",
        "lst = [6,7,10,11,13]\n",
        "n = len(lst)\n",
        "missing_numbers_3(lst,n)"
      ],
      "metadata": {
        "colab": {
          "base_uri": "https://localhost:8080/"
        },
        "id": "I_bkeHgeey0W",
        "outputId": "387e5fa2-f4eb-416b-9e62-58c3413edec7"
      },
      "execution_count": null,
      "outputs": [
        {
          "output_type": "stream",
          "name": "stdout",
          "text": [
            "8 9 12 "
          ]
        }
      ]
    },
    {
      "cell_type": "markdown",
      "source": [
        "#7 Return S, sum of the marks of K Top Scores\n",
        "\n",
        "Input: First Line Contains N, Total number of participants, Second line contains K, Top scores. Third Line Contains an arry of N-1 elements\n",
        "\n",
        "Sample Test Cases::<br>\n",
        "4<br>\n",
        "2<br>\n",
        "4,1,2,5"
      ],
      "metadata": {
        "id": "BvgOZ7T1AvAa"
      }
    },
    {
      "cell_type": "code",
      "source": [
        "##General case\n",
        "test0 = {'input': {'N': 5,\n",
        "                   'K': 2,\n",
        "                   'arr': [1,2,7,5,9]},\n",
        "         'output': 16}\n",
        "#Edge case\n",
        "test1 = {'input': {'N': 5,\n",
        "                   'K': 0,\n",
        "                   'arr': [1,2,7,5,9]},\n",
        "         'output': 0}\n",
        "test2 = {'input': {'N': 0,\n",
        "                   'K': 0,\n",
        "                   'arr': [1,2,7,5,9]},\n",
        "         'output': 0}\n",
        "test3 = {'input': {'N': 5,\n",
        "                   'K': 2,\n",
        "                   'arr': [6,6,6,6,6]},\n",
        "         'output': 12}\n",
        "test4 = {'input': {'N': 5,\n",
        "                   'K': 2,\n",
        "                   'arr': [0,0,0,0,0]},\n",
        "         'output': 0}\n",
        "test5 = {'input': {'N': 5,\n",
        "                   'K': 6,\n",
        "                   'arr': [0,0,0,0,0]},\n",
        "         'output': -1}\n",
        "\n",
        "tests = [test0,test1,test2,test3,test4]"
      ],
      "metadata": {
        "id": "8yL5WJ4bBV3b"
      },
      "execution_count": null,
      "outputs": []
    },
    {
      "cell_type": "code",
      "source": [
        "def sum_of_K(N, K, arr):\n",
        "  arr = sorted(arr, reverse=True)\n",
        "  sum = 0\n",
        "  if K > N:\n",
        "    return -1\n",
        "  else:\n",
        "    for i in range(K):\n",
        "      sum = sum + arr[i]\n",
        "  return sum\n",
        "\n",
        "sum_of_K(test5['input']['N'], test5['input']['K'],test5['input']['arr'])"
      ],
      "metadata": {
        "colab": {
          "base_uri": "https://localhost:8080/"
        },
        "id": "YaWM-CR-BVUL",
        "outputId": "2499cddb-edb8-4679-82bb-040e7aabe3d5"
      },
      "execution_count": null,
      "outputs": [
        {
          "output_type": "execute_result",
          "data": {
            "text/plain": [
              "-1"
            ]
          },
          "metadata": {},
          "execution_count": 28
        }
      ]
    },
    {
      "cell_type": "code",
      "source": [
        "sorted([2,4,3,1], reverse=True)"
      ],
      "metadata": {
        "colab": {
          "base_uri": "https://localhost:8080/"
        },
        "id": "DCr5gcr9Bdif",
        "outputId": "7bb56cea-980c-4ace-bfed-4e5478e44a43"
      },
      "execution_count": null,
      "outputs": [
        {
          "output_type": "execute_result",
          "data": {
            "text/plain": [
              "[4, 3, 2, 1]"
            ]
          },
          "metadata": {},
          "execution_count": 21
        }
      ]
    },
    {
      "cell_type": "markdown",
      "source": [
        "#8 Given an array of integers $arr$ and integer $k$, find the $kth$ largest element"
      ],
      "metadata": {
        "id": "8fbjgjg1rzSF"
      }
    },
    {
      "cell_type": "code",
      "source": [
        "test0 = {'input' : {'arr':[4,2,9,7,5,6,7,1,3],\n",
        "                    'k' : 4},\n",
        "         'output': 6}"
      ],
      "metadata": {
        "id": "2dv6jGvcsTwQ"
      },
      "execution_count": null,
      "outputs": []
    },
    {
      "cell_type": "code",
      "source": [
        "#1. Solution\n",
        "def kth_largest(arr, k):\n",
        "  for i in range(k-1):   #k-1 times\n",
        "    arr.remove(max(arr))  ##2*n times\n",
        "  return max(arr)  #n times\n",
        "## T(n) = (k-1)*2n + n = 2kn - n = O(kn)\n",
        "## S(n) = O(1)\n",
        "\n",
        "#2. Solution Sorting\n",
        "def kth_largest_sort(arr, k):\n",
        "  n = len(arr)\n",
        "  arr.sort()\n",
        "  return arr[n-k]\n",
        "## T(n) = O(nlogn)\n",
        "## S(N) = O(1)"
      ],
      "metadata": {
        "id": "MOINpQHlsT2a"
      },
      "execution_count": null,
      "outputs": []
    },
    {
      "cell_type": "code",
      "source": [
        "#3. Solution\n",
        "import heapq\n",
        "def kth_largest(arr, k):\n",
        "  arr = [-elm for elm in arr] ##n times\n",
        "  heapq.heapify(arr) ## n times\n",
        "  for i in range(k-1):  ## k-1 times\n",
        "    heapq.heappop(arr)  #logn\n",
        "  return -heapq.heappop(arr) #lonn\n",
        "kth_largest(test0['input']['arr'], test0['input']['k'])\n",
        "## T(n) = 2n + (k-1)*logn + logn = 2n + klogn = O(n + klogn)\n",
        "## S(N) = O(n)"
      ],
      "metadata": {
        "colab": {
          "base_uri": "https://localhost:8080/"
        },
        "id": "lKOk3klssTzc",
        "outputId": "46ee12ae-5bf2-4917-836a-a9dee93d5319"
      },
      "execution_count": null,
      "outputs": [
        {
          "output_type": "execute_result",
          "data": {
            "text/plain": [
              "6"
            ]
          },
          "metadata": {},
          "execution_count": 23
        }
      ]
    },
    {
      "cell_type": "markdown",
      "source": [
        "#9 Heap, heapsort and priority queues\n",
        "\n",
        "https://www.youtube.com/watch?v=pLIajuc31qk\n",
        "\n",
        "\n",
        "Node: $i$ <br>\n",
        "Left child: 2$i$ + 1<br>\n",
        "Right child: 2$i$ + 2<br>\n",
        "Parent: $(i-1)$/2\n",
        "\n",
        "Operation: insert, get min/max, extract min/max, update, build\n"
      ],
      "metadata": {
        "id": "5K3bFZ8MD7gA"
      }
    },
    {
      "cell_type": "code",
      "source": [
        "def _siftup(self,i):\n",
        "  parent = (i-1)//2\n",
        "  while i != 0 and self.heap[i] < self.heap[parent]:\n",
        "    self.heap[i], self.heap[parent] = self.heap[parent], self.heap[i]\n",
        "    i = parent\n",
        "    parent = (i-1)//2\n",
        "def _siftdown(self, i):\n",
        "  left = 2*i + 1\n",
        "  right = 2*i + 2\n",
        "  while (left < len(self.heap) and self.heap[i] > self.heap[left]) or (right < len(self.heap) and self.heap[i] > self.heap[right]):\n",
        "    smallest = left if (right >= len(self.heap) or self.heap[left] < self.heap[right]) else right\n",
        "    self.heap[i], self.heap[smallest] = self.heap[smallest], self.heap[i]\n",
        "    i = smallest\n",
        "    left = 2*i + 1\n",
        "    right = 2*i + 2\n",
        "\n",
        "## T(n) = O(logn)  For sift-up and sift-down"
      ],
      "metadata": {
        "id": "SFVRrppyEgEt"
      },
      "execution_count": null,
      "outputs": []
    },
    {
      "cell_type": "code",
      "source": [
        "def insert(self, element):\n",
        "  self.heap.append(element)\n",
        "  self._siftup(len(self.heap) - 1) #O(logn)\n",
        "\n",
        "def get_min(self):\n",
        "  return self.heap[0] if len(self.heap) > 0 else None #O(1)\n",
        "\n",
        "def extract_min(self, element):\n",
        "  if len(self.heap) == 0:\n",
        "    return None\n",
        "  minval = self.heap[0]\n",
        "  self.heap[0], self.heap[-1] = self.heap[-1], self.heap[0]\n",
        "  self.heap.pop()\n",
        "  self._siftdown(0)\n",
        "  return minval  ## O(logn)\n",
        "\n",
        "def update(self, old, new):\n",
        "  if old in self.heap:\n",
        "    self.update_by_index(self.heap.index(old), new)\n",
        "\n",
        "\n",
        "\n"
      ],
      "metadata": {
        "id": "8H0rnXOSEgBD"
      },
      "execution_count": null,
      "outputs": []
    },
    {
      "cell_type": "code",
      "source": [
        ""
      ],
      "metadata": {
        "id": "OVff6hmXEf7P"
      },
      "execution_count": null,
      "outputs": []
    },
    {
      "cell_type": "code",
      "source": [
        ""
      ],
      "metadata": {
        "id": "WmpAeLcREf4H"
      },
      "execution_count": null,
      "outputs": []
    },
    {
      "cell_type": "markdown",
      "source": [
        "#10 Length of Longest Unique subcharacter substring"
      ],
      "metadata": {
        "id": "ofsgQofzsUY_"
      }
    },
    {
      "cell_type": "code",
      "execution_count": null,
      "metadata": {
        "colab": {
          "base_uri": "https://localhost:8080/"
        },
        "id": "w6lT2xPiGBzo",
        "outputId": "9635cbc6-a21c-4730-981b-67bcbe54565f"
      },
      "outputs": [
        {
          "output_type": "stream",
          "name": "stdout",
          "text": [
            "The input string is geeksforgeeks\n",
            "max_len  1\n",
            "index_dict  {'g': 0}\n",
            "max_len  2\n",
            "index_dict  {'g': 0, 'e': 1}\n",
            "start_index  2\n",
            "max_len  2\n",
            "index_dict  {'g': 0, 'e': 2}\n",
            "max_len  2\n",
            "index_dict  {'g': 0, 'e': 2, 'k': 3}\n",
            "max_len  3\n",
            "index_dict  {'g': 0, 'e': 2, 'k': 3, 's': 4}\n",
            "max_len  4\n",
            "index_dict  {'g': 0, 'e': 2, 'k': 3, 's': 4, 'f': 5}\n",
            "max_len  5\n",
            "index_dict  {'g': 0, 'e': 2, 'k': 3, 's': 4, 'f': 5, 'o': 6}\n",
            "max_len  6\n",
            "index_dict  {'g': 0, 'e': 2, 'k': 3, 's': 4, 'f': 5, 'o': 6, 'r': 7}\n",
            "start_index  2\n",
            "max_len  7\n",
            "index_dict  {'g': 8, 'e': 2, 'k': 3, 's': 4, 'f': 5, 'o': 6, 'r': 7}\n",
            "start_index  3\n",
            "max_len  7\n",
            "index_dict  {'g': 8, 'e': 9, 'k': 3, 's': 4, 'f': 5, 'o': 6, 'r': 7}\n",
            "start_index  10\n",
            "max_len  7\n",
            "index_dict  {'g': 8, 'e': 10, 'k': 3, 's': 4, 'f': 5, 'o': 6, 'r': 7}\n",
            "start_index  10\n",
            "max_len  7\n",
            "index_dict  {'g': 8, 'e': 10, 'k': 11, 's': 4, 'f': 5, 'o': 6, 'r': 7}\n",
            "start_index  10\n",
            "max_len  7\n",
            "index_dict  {'g': 8, 'e': 10, 'k': 11, 's': 12, 'f': 5, 'o': 6, 'r': 7}\n",
            "The length of the longest non-repeating character substring is 7\n"
          ]
        }
      ],
      "source": [
        "def longestUniqueSubsttr(string):\n",
        "    last_idx = {}\n",
        "    max_len = 0\n",
        "    start_idx = 0\n",
        "    for i in range(0, len(string)):    \n",
        "        if string[i] in last_idx:\n",
        "            start_idx = max(start_idx, last_idx[string[i]] + 1)\n",
        "            print(\"start_index \", start_idx)\n",
        "\n",
        "        max_len = max(max_len, i-start_idx + 1)      \n",
        "        print(\"max_len \", max_len)\n",
        "        # Update last index of current char.\n",
        "        last_idx[string[i]] = i\n",
        "        print(\"index_dict \", last_idx)\n",
        "    return max_len\n",
        "# Driver program to test the above function\n",
        "string = \"geeksforgeeks\"\n",
        "print(\"The input string is \" + string)\n",
        "length = longestUniqueSubsttr(string)\n",
        "print(\"The length of the longest non-repeating character\" +\n",
        "\t\" substring is \" + str(length))"
      ]
    },
    {
      "cell_type": "markdown",
      "source": [
        "#11 Overlapping Subproblems Property in Dynamic Programming DP-1\n",
        "\n",
        "Dynamic programming is mainly used when solutions of the same subproblems are needed again and again. In Dynamic programming, computed solutions to subproblems are stored in a table so that these don't have to be recomputed. So Dynamic programming is not useful when there are no common(overlapping) subproblems because there s no point storing the solutions if they are not needed again.\n",
        "\n",
        "\n",
        "Overlapping Subproblems:"
      ],
      "metadata": {
        "id": "KxDj4tPsLC5u"
      }
    },
    {
      "cell_type": "code",
      "source": [
        "# a simple recursive program foor Fibonacci numbers\n",
        "%%time\n",
        "def fib(n):\n",
        "  if n <= 1:\n",
        "    return n\n",
        "  else:\n",
        "    return fib(n-1) + fib(n-2)\n",
        "fib(20)"
      ],
      "metadata": {
        "colab": {
          "base_uri": "https://localhost:8080/"
        },
        "id": "C3L1TQyQLkf9",
        "outputId": "0fce48cb-33ca-43be-e70c-51230a644398"
      },
      "execution_count": null,
      "outputs": [
        {
          "output_type": "stream",
          "name": "stdout",
          "text": [
            "CPU times: user 4.1 ms, sys: 0 ns, total: 4.1 ms\n",
            "Wall time: 4.14 ms\n"
          ]
        }
      ]
    },
    {
      "cell_type": "markdown",
      "source": [
        "                              \n",
        "                          fib(5)\n",
        "                      /       \\\n",
        "               fib(4)              fib(3)\n",
        "             /      \\                /     \\\n",
        "         fib(3)      fib(2)         fib(2)    fib(1)\n",
        "        /     \\        /    \\       /    \\\n",
        "    fib(2)   fib(1)  fib(1) fib(0) fib(1) fib(0)\n",
        "    /    \\\n",
        "    fib(1) fib(0)\n"
      ],
      "metadata": {
        "id": "zpg4TREfOkCA"
      }
    },
    {
      "cell_type": "markdown",
      "source": [
        "There are following two different ways to store the values so that these can be reused:\n",
        "\n",
        "a) Memoization(Top Down)\n",
        "b) Tabulation(Bottom Up)"
      ],
      "metadata": {
        "id": "gjh8Mq5jP0qE"
      }
    },
    {
      "cell_type": "code",
      "source": [
        "#a program for Memoized version of nth Fibonacci number\n",
        "%%time\n",
        "def fib1(n):\n",
        "  lookup = [None]*101\n",
        "  if n <= 1:\n",
        "    lookup[n] = n\n",
        "  #if the value is not calculated previously the calculate it\n",
        "  if lookup[n] is None:\n",
        "    lookup[n] = fib1(n-1) + fib1(n-2)\n",
        "\n",
        "  #return the value corresponding to the value of n\n",
        "  return lookup[n]\n",
        "  \n",
        "fib1(20)"
      ],
      "metadata": {
        "colab": {
          "base_uri": "https://localhost:8080/"
        },
        "id": "cMoiIr5ZLkMT",
        "outputId": "890b7cc5-299f-4eae-cd05-f2a4e009f30e"
      },
      "execution_count": null,
      "outputs": [
        {
          "output_type": "stream",
          "name": "stdout",
          "text": [
            "CPU times: user 16.4 ms, sys: 706 µs, total: 17.1 ms\n",
            "Wall time: 19.1 ms\n"
          ]
        }
      ]
    },
    {
      "cell_type": "code",
      "source": [
        "# Tabulation (Bottom Up): The tabulated program for a given problems builds a table in bottom-up fashion and return the\n",
        "# returns the last entry from the table.\n",
        "\n",
        "##Python program Tabulated (bottom up) version\n",
        "%%time\n",
        "def fib2(n):\n",
        "  #array declaration\n",
        "  f = [0]*(n+1)\n",
        "\n",
        "  #base case assignment\n",
        "  f[1] = 1\n",
        "\n",
        "  #calculating the fibonacci and storing the values\n",
        "  for i in range(2, n+1):\n",
        "    f[i] = f[i-1] + f[i-2]\n",
        "  return f[n]\n",
        "fib2(20)\n"
      ],
      "metadata": {
        "colab": {
          "base_uri": "https://localhost:8080/"
        },
        "id": "_5R1q6aKQXOQ",
        "outputId": "86dbbc48-27dc-4302-888f-9dc3c547d9d6"
      },
      "execution_count": null,
      "outputs": [
        {
          "output_type": "stream",
          "name": "stdout",
          "text": [
            "CPU times: user 15 µs, sys: 0 ns, total: 15 µs\n",
            "Wall time: 20.3 µs\n"
          ]
        }
      ]
    },
    {
      "cell_type": "markdown",
      "source": [
        "Longest Increasing Subsequence | DP-3"
      ],
      "metadata": {
        "id": "cU9VxdoUvIK5"
      }
    },
    {
      "cell_type": "code",
      "source": [
        "##General case\n",
        "test0 = {'input': {'arr': [3,10,2,1,20]},\n",
        "         'output': 3}\n",
        "#Edge case\n",
        "test1 = {'input': {'arr': [3,2]},\n",
        "         'output': 1}\n",
        "test2 = {'input': {'arr': [50,3,10,7,40,80]},\n",
        "         'output': 4}\n",
        "test3 = {'input': {'arr': [6,6,6,6,6]},\n",
        "         'output': 1}\n",
        "test4 = {'input': {'arr': []},\n",
        "         'output': -1}\n",
        "\n",
        "tests = [test0,test1,test2,test3,test4]"
      ],
      "metadata": {
        "id": "CUcKllTEQXLI"
      },
      "execution_count": null,
      "outputs": []
    },
    {
      "cell_type": "code",
      "source": [
        "# A naive Python implementation of LIS problem\n",
        "global maximum\n",
        "def _lis(arr, n):\n",
        "\t# global maximum\n",
        "\tif n == 1:\n",
        "\t\treturn 1\n",
        "\t# maxEndingHere is the length of LIS ending with arr[n-1]\n",
        "\tmaxEndingHere = 1\n",
        "\tfor i in range(1, n):\n",
        "\t\tres = _lis(arr, i)\n",
        "\t\tif arr[i-1] < arr[n-1] and res+1 > maxEndingHere:\n",
        "\t\t\tmaxEndingHere = res + 1\n",
        "\tmaximum = max(maximum, maxEndingHere)\n",
        "\treturn maxEndingHere\n",
        "\n",
        "\n",
        "def lis(arr):\n",
        "\n",
        "\t# to allow the access of global variable\n",
        "\tglobal maximum\n",
        "\n",
        "\t# length of arr\n",
        "\tn = len(arr)\n",
        "\n",
        "\t# maximum variable holds the result\n",
        "\tmaximum = 1\n",
        "\n",
        "\t# The function _lis() stores its result in maximum\n",
        "\t_lis(arr, n)\n",
        "\n",
        "\treturn maximum\n",
        "\n",
        "\n",
        "# Driver program to test the above function\n",
        "arr = [10, 22, 9, 33, 21, 50, 41, 60]\n",
        "n = len(arr)\n",
        "print (\"Length of lis is \", lis(arr))\n",
        "\n",
        "# This code is contributed by NIKHIL KUMAR SINGH\n"
      ],
      "metadata": {
        "id": "TJHSMGI2MEOp"
      },
      "execution_count": null,
      "outputs": []
    },
    {
      "cell_type": "code",
      "source": [
        "def lis(arr):\n",
        "\tn = len(arr)\n",
        "\tlis = [1]*n\n",
        "\t# Compute optimized LIS values in bottom up manner\n",
        "\tfor i in range(1, n):\n",
        "\t\tfor j in range(0, i):\n",
        "\t\t\tif arr[i] > arr[j] and lis[i] < lis[j] + 1:\n",
        "\t\t\t\tlis[i] = lis[j]+1\n",
        "\n",
        "\t# Initialize maximum to 0 to get\n",
        "\t# the maximum of all LIS\n",
        "\tmaximum = 0\n",
        "\n",
        "\t# Pick maximum of all LIS values\n",
        "\tfor i in range(n):\n",
        "\t\tmaximum = max(maximum, lis[i])\n",
        "\n",
        "\treturn maximum\n",
        "# end of lis function\n",
        "\n",
        "\n",
        "# Driver program to test above function\n",
        "arr = [10, 22, 9, 33, 21, 50, 41, 60]\n",
        "print (\"Length of lis is\", lis(arr))\n",
        "# This code is contributed by Nikhil Kumar Singh\n"
      ],
      "metadata": {
        "id": "7z61EdCZMECh"
      },
      "execution_count": null,
      "outputs": []
    },
    {
      "cell_type": "markdown",
      "source": [
        "3.Longest Common Subsequence\n",
        "\n",
        "A string of length $n$ has $2^n$ deiiferent possible subsequences.\n",
        "\n",
        "If last character of both sequences match(or X[m-1]==Y[n-1]) then L(X[0..m-1],Y[0..n-1]) = 1 + L(X[0...m-2], Y[0..n-2])"
      ],
      "metadata": {
        "id": "8huSt7BnJ7UJ"
      }
    },
    {
      "cell_type": "code",
      "source": [
        "def lcs(X,Y,m,n):\n",
        "  if m==0 or n == 0:\n",
        "    return 0\n",
        "  elif X[m-1] == Y[n-1]:\n",
        "    return 1 + lcs(X, Y, m-1, n-1)\n",
        "  else:\n",
        "    return max(lcs(X,Y,m,n-1), lcs(X,Y,m-1,n))\n",
        "\n",
        "X = \"AGGTAB\"\n",
        "Y = \"GXTXAYB\"\n",
        "print (\"Length of LCS is \", lcs(X, Y, len(X), len(Y)))"
      ],
      "metadata": {
        "id": "ECr_-AxSw2vQ",
        "colab": {
          "base_uri": "https://localhost:8080/"
        },
        "outputId": "4bbc85f1-861c-438b-d7e9-a206ce9a9af9"
      },
      "execution_count": null,
      "outputs": [
        {
          "output_type": "stream",
          "name": "stdout",
          "text": [
            "Length of LCS is  4\n"
          ]
        }
      ]
    },
    {
      "cell_type": "code",
      "source": [
        "def lcq_recursive(seq1, seq2, idx1=0, idx2=0):\n",
        "    if idx1 == len(seq1) or idx2 == len(seq2):\n",
        "        return 0\n",
        "    if seq1[idx1] == seq2[idx2]:\n",
        "        return 1 + lcq_recursive(seq1, seq2, idx1+1, idx2+1)\n",
        "    else:\n",
        "        return max(lcq_recursive(seq1, seq2, idx1+1, idx2), \n",
        "                   lcq_recursive(seq1, seq2, idx1, idx2+1))\n",
        "X = \"AGGTAB\"\n",
        "Y = \"GXTXAYB\"\n",
        "print (\"Length of LCS is \", lcq_recursive(X, Y))"
      ],
      "metadata": {
        "id": "LM0TFTAyJ1r9",
        "colab": {
          "base_uri": "https://localhost:8080/"
        },
        "outputId": "948cea6e-3525-41e9-b870-be4da9c43792"
      },
      "execution_count": null,
      "outputs": [
        {
          "output_type": "stream",
          "name": "stdout",
          "text": [
            "Length of LCS is  4\n"
          ]
        }
      ]
    },
    {
      "cell_type": "code",
      "source": [
        "def lcq_memoized(seq1, seq2):\n",
        "    memo = {}\n",
        "    def recurse(idx1, idx2):\n",
        "        key = idx1, idx2\n",
        "       \n",
        "        if key in memo:\n",
        "            return memo[key]\n",
        "        \n",
        "        elif idx1 == len(seq1) or idx2 == len(seq2):\n",
        "            memo[key] = 0\n",
        "        elif seq1[idx1] == seq2[idx2]:\n",
        "            memo[key] = 1 + recurse(idx1+1, idx2+1)\n",
        "        else:\n",
        "            memo[key] = max(recurse(idx1+1, idx2), \n",
        "                            recurse(idx1, idx2+1))\n",
        "        return memo[key]        \n",
        "    return recurse(0, 0)\n",
        "lcq_memoized(X, Y)"
      ],
      "metadata": {
        "id": "DfyRrz37J1lu",
        "colab": {
          "base_uri": "https://localhost:8080/"
        },
        "outputId": "d01e52f3-cd21-4eff-cccd-4f0448b085b9"
      },
      "execution_count": null,
      "outputs": [
        {
          "output_type": "execute_result",
          "data": {
            "text/plain": [
              "7"
            ]
          },
          "metadata": {},
          "execution_count": 15
        }
      ]
    },
    {
      "cell_type": "code",
      "source": [
        "memo = {}\n",
        "def recurse(seq1,seq2,idx1, idx2):\n",
        "    key = idx1, idx2\n",
        "    \n",
        "    if key in memo:\n",
        "        return memo[key]\n",
        "    \n",
        "    elif idx1 == len(seq1) or idx2 == len(seq2):\n",
        "        memo[key] = 0\n",
        "    elif seq1[idx1] == seq2[idx2]:\n",
        "        memo[key] = 1 + recurse(seq1,seq2,idx1+1, idx2+1)\n",
        "    else:\n",
        "        memo[key] = max(recurse(seq1,seq2,idx1+1, idx2), \n",
        "                        recurse(seq1,seq2,idx1, idx2+1))\n",
        "    return memo[key]  "
      ],
      "metadata": {
        "id": "-3AzqiwTdLIc"
      },
      "execution_count": null,
      "outputs": []
    },
    {
      "cell_type": "code",
      "source": [
        "X = 'serendipitous'\n",
        "Y = 'precipitation'\n",
        "recurse(X,Y,0,0)"
      ],
      "metadata": {
        "colab": {
          "base_uri": "https://localhost:8080/"
        },
        "id": "NRoN-gJkdN1s",
        "outputId": "3d74358a-9b80-4a77-d13e-dea430988166"
      },
      "execution_count": null,
      "outputs": [
        {
          "output_type": "execute_result",
          "data": {
            "text/plain": [
              "7"
            ]
          },
          "metadata": {},
          "execution_count": 17
        }
      ]
    },
    {
      "cell_type": "code",
      "source": [
        "def lcq_dp(seq1, seq2):\n",
        "    n1, n2 = len(seq1), len(seq2)\n",
        "    results = [[0 for _ in range(n2+1)] for _ in range(n1+1)]\n",
        "    for idx1 in range(n1):\n",
        "        for idx2 in range(n2):\n",
        "            if seq1[idx1] == seq2[idx2]:\n",
        "                results[idx1+1][idx2+1] = 1 + results[idx1][idx2]\n",
        "            else:\n",
        "                results[idx1+1][idx2+1] = max(results[idx1][idx2+1], results[idx1+1][idx2])\n",
        "    return results[-1][-1]\n",
        "lcq_dp(X, Y)"
      ],
      "metadata": {
        "colab": {
          "base_uri": "https://localhost:8080/"
        },
        "id": "HlYVRCSVBy0O",
        "outputId": "423defd7-d614-4e4c-c054-40fa4986fe13"
      },
      "execution_count": null,
      "outputs": [
        {
          "output_type": "execute_result",
          "data": {
            "text/plain": [
              "4"
            ]
          },
          "metadata": {},
          "execution_count": 5
        }
      ]
    },
    {
      "cell_type": "markdown",
      "source": [
        "#12 Anagrams\n",
        "\n",
        "Two strings are anagrams if they're made of the same characters with the same frequencies. \n",
        "\n",
        "freq1 = frequencies of characters of s1<br>\n",
        "freq2 = frequencies of characters of s2<br>\n",
        "freq1 == freq2 => s1 and s2 are anagrams\n",
        "\n"
      ],
      "metadata": {
        "id": "XJDVkNbw8sRO"
      }
    },
    {
      "cell_type": "code",
      "source": [
        "def are_anagrams(s1, s2):\n",
        "  if len(s1) != len(s2):\n",
        "    return False\n",
        "  \n",
        "  freq1 = {}\n",
        "  freq2 = {}\n",
        "\n",
        "  for ch in s1:\n",
        "    if ch in freq1:\n",
        "      freq1[ch] += 1\n",
        "    else:\n",
        "      freq1[ch] = 1\n",
        "\n",
        "  for ch in s2:\n",
        "    if ch in freq2:\n",
        "      freq2[ch] += 1\n",
        "    else:\n",
        "      freq2[ch] = 1\n",
        "\n",
        "  for key in freq1:\n",
        "    if key not in freq2 or freq1[key] != freq2[key]:\n",
        "      return False\n",
        "  return True\n",
        "\n",
        "s1 = 'nameless' #'danger'\n",
        "s2 =  'salesmen' #'garden'\n",
        "\n",
        "Bool = are_anagrams(s1,s2)\n",
        "Bool\n",
        "\n",
        "#Time complexity\n",
        "## T(n) = O(n) + O(n) + O(n)\n",
        "## T(n) = O(n)\n",
        "\n",
        "#Space Complexity\n",
        "## S(n) = O(n) + O(n)\n",
        "## S(n) = O(n)"
      ],
      "metadata": {
        "colab": {
          "base_uri": "https://localhost:8080/"
        },
        "id": "DkvCS7Pb-anA",
        "outputId": "7dcf4d9d-6fd0-4a44-c0df-448717e91380"
      },
      "execution_count": null,
      "outputs": [
        {
          "output_type": "execute_result",
          "data": {
            "text/plain": [
              "True"
            ]
          },
          "metadata": {},
          "execution_count": 13
        }
      ]
    },
    {
      "cell_type": "code",
      "source": [
        "#2\n",
        "from collections import Counter\n",
        "def are_anagrams(s1, s2):\n",
        "  if len(s1) != len(s2):\n",
        "    return False\n",
        "  return Counter(s1) == Counter(s2)\n",
        "\n",
        "#3\n",
        "def are_anagrams(s1, s2):\n",
        "  if len(s1) != len(s2):\n",
        "    return False\n",
        "  return sorted(s1) == sorted(s2)\n",
        "#Time complexity\n",
        "## T(n) = O(nlogn) + O(nlogn) +O(n) = O(nlogn)\n",
        "## S(n) = 2n = O(n)"
      ],
      "metadata": {
        "colab": {
          "base_uri": "https://localhost:8080/"
        },
        "id": "ySiI9eXv_ANd",
        "outputId": "6e416d26-9171-4cd1-b357-26fde7e776a3"
      },
      "execution_count": null,
      "outputs": [
        {
          "output_type": "execute_result",
          "data": {
            "text/plain": [
              "False"
            ]
          },
          "metadata": {},
          "execution_count": 12
        }
      ]
    },
    {
      "cell_type": "markdown",
      "source": [
        "#13 First and last position\n",
        "\n",
        "Given a sorted $array$ of integers arr and an integers $target$, find the index of first and last postion of target in array. If target can't be found in arr, return [-1,-1]"
      ],
      "metadata": {
        "id": "gu-D9iZeECj8"
      }
    },
    {
      "cell_type": "code",
      "source": [
        "def first_and_last(arr, target):\n",
        "  for i in range(len(arr)):\n",
        "    if arr[i] == target:\n",
        "      start = i\n",
        "      while i+1 < len(arr) and arr[i+1] == target:\n",
        "        i+=1\n",
        "      return [start, i]\n",
        "  return [-1, -1] \n",
        "\n",
        "first_and_last([2,4,5,5,5,5,5,7,9,9], 3)\n",
        "\n",
        "## T(n) = O(n)\n",
        "## S(N) = O(1)"
      ],
      "metadata": {
        "colab": {
          "base_uri": "https://localhost:8080/"
        },
        "id": "nwYj9Y2WBpwH",
        "outputId": "6e1bf393-e6b3-46ed-fa53-d6c6c879da47"
      },
      "execution_count": null,
      "outputs": [
        {
          "output_type": "execute_result",
          "data": {
            "text/plain": [
              "[-1, -1]"
            ]
          },
          "metadata": {},
          "execution_count": 15
        }
      ]
    },
    {
      "cell_type": "code",
      "source": [
        "#2 Using binary search\n",
        "def find_start(arr, target):\n",
        "  if arr[0] == target:\n",
        "    return 0\n",
        "  left, right = 0, len(arr)-1\n",
        "  while left < right:\n",
        "    mid = (left+right)//2\n",
        "    if arr[mid] == target and arr[mid-1] < target:\n",
        "      return mid\n",
        "    elif arr[mid] < target:\n",
        "      left = mid + 1\n",
        "    else:\n",
        "      right = mid - 1\n",
        "  return -1\n",
        "\n",
        "def first_and_last(arr, target):\n",
        "  if len(arr) == 0:\n",
        "    return [-1, -1]\n",
        "  start = find_start(arr, target)\n",
        "  if start == -1:\n",
        "    return [-1, -1]\n",
        "  end = start\n",
        "  while end + 1 < len(arr) and arr[end + 1] == target:\n",
        "    end+=1\n",
        "  return [start, end]\n",
        "first_and_last([2,4,5,5,5,5,5,7,9,9], 5)\n",
        "\n",
        "## T(n) = O(nlogn) + O(n) = O(n)"
      ],
      "metadata": {
        "colab": {
          "base_uri": "https://localhost:8080/"
        },
        "id": "a-dzB_CdHB5_",
        "outputId": "0acaff6d-1278-4785-8843-f73ddc021c75"
      },
      "execution_count": null,
      "outputs": [
        {
          "output_type": "execute_result",
          "data": {
            "text/plain": [
              "[2, 6]"
            ]
          },
          "metadata": {},
          "execution_count": 17
        }
      ]
    },
    {
      "cell_type": "code",
      "source": [
        "def find_end(arr, target):\n",
        "  if arr[-1] == target:\n",
        "    return len(arr)-1\n",
        "  left, right = 0, len(arr)-1\n",
        "  while left <= right:\n",
        "    mid = (left + right)//2\n",
        "    if arr[mid] == target and arr[mid+1] > target:\n",
        "      return mid\n",
        "    elif arr[mid] > target:\n",
        "      right = mid - 1\n",
        "    else:\n",
        "      left = mid + 1\n",
        "  return -1"
      ],
      "metadata": {
        "id": "qRH3gB27VGgd"
      },
      "execution_count": null,
      "outputs": []
    },
    {
      "cell_type": "code",
      "source": [
        "def first_and_last(arr, target):\n",
        "  if len(arr) == 0 or arr[0] > target or arr[-1] < target:\n",
        "    return [-1, -1]\n",
        "  start = find_start(arr, target)\n",
        "  end = find_end(arr, target)\n",
        "  return [start, end]\n",
        "## T(n) = 2*O(logn) = O(logn)\n",
        "## S(N) = O(1)"
      ],
      "metadata": {
        "id": "B_Xc14H0bThQ"
      },
      "execution_count": null,
      "outputs": []
    },
    {
      "cell_type": "markdown",
      "source": [
        "#14 Max profit stock"
      ],
      "metadata": {
        "id": "c1KJkx3kq_rU"
      }
    },
    {
      "cell_type": "code",
      "source": [
        "eth = [100, 20, 25, 80, 150, 230, 30]\n",
        "Input= [7,1,5,3,6,4]\n",
        "inpt = [1,5,4,10]\n",
        "def max_profit(prices):\n",
        "  m = 0\n",
        "  for i in range(0, len(prices)):\n",
        "    #buy at time i\n",
        "    for j in range(i+1, len(prices)):\n",
        "      profit = prices[j] - prices[i]\n",
        "      m = max(m, profit)\n",
        "  return m\n",
        "max_profit(inpt)"
      ],
      "metadata": {
        "id": "PwmWu4V7HLRI",
        "colab": {
          "base_uri": "https://localhost:8080/"
        },
        "outputId": "65fa91b3-9047-458f-a5c6-c9653673d1a7"
      },
      "execution_count": null,
      "outputs": [
        {
          "output_type": "execute_result",
          "data": {
            "text/plain": [
              "9"
            ]
          },
          "metadata": {},
          "execution_count": 5
        }
      ]
    },
    {
      "cell_type": "markdown",
      "source": [
        "#15. Sort dictionary using Value"
      ],
      "metadata": {
        "id": "KBKK2KjSJO3r"
      }
    },
    {
      "cell_type": "code",
      "source": [
        "def dictionary():\n",
        "  key_value = {}\n",
        "  key_value[2] = 56\n",
        "  key_value[1] = 2\n",
        "  key_value[5] = 12\n",
        "  key_value[4] = 24\n",
        "  key_value[6] = 18\n",
        "  key_value[3] = 323\n",
        "  print(\"Task 3: -nKeys and Values sorted \",\"in alphabetical order by the value\")\n",
        "  print(sorted(key_value.items(), key=lambda kv:(kv[1],kv[0])))\n",
        "\n",
        "def main():\n",
        "  dictionary()\n",
        "\n",
        "if __name__==\"__main__\":\n",
        "  main()"
      ],
      "metadata": {
        "id": "jYD19iDdHLKt",
        "colab": {
          "base_uri": "https://localhost:8080/"
        },
        "outputId": "0a4fa237-1c83-4441-c157-acb4abf0072d"
      },
      "execution_count": null,
      "outputs": [
        {
          "output_type": "stream",
          "name": "stdout",
          "text": [
            "Task 3: -nKeys and Values sorted  in alphabetical order by the value\n",
            "[(1, 2), (5, 12), (6, 18), (4, 24), (2, 56), (3, 323)]\n"
          ]
        }
      ]
    },
    {
      "cell_type": "code",
      "source": [
        "from collections import OrderedDict\n",
        " \n",
        "dict = {'ravi':'10','rajnish':'9','sanjeev':'15','yash':'2','suraj':'32'}\n",
        "dict1 = OrderedDict(sorted(dict.items()))\n",
        "print(dict1)"
      ],
      "metadata": {
        "id": "TFMbwJ2LUC7q"
      },
      "execution_count": null,
      "outputs": []
    },
    {
      "cell_type": "code",
      "source": [
        "dict = {'ravi':10,'rajnish':9,'sanjeev':15,'yash':2,'suraj':32}\n",
        "dict"
      ],
      "metadata": {
        "colab": {
          "base_uri": "https://localhost:8080/"
        },
        "id": "-x1TwAQcUEvJ",
        "outputId": "0076d49d-79fa-4146-e77c-ab735ad4023b"
      },
      "execution_count": null,
      "outputs": [
        {
          "output_type": "execute_result",
          "data": {
            "text/plain": [
              "{'rajnish': 9, 'ravi': 10, 'sanjeev': 15, 'suraj': 32, 'yash': 2}"
            ]
          },
          "metadata": {},
          "execution_count": 38
        }
      ]
    },
    {
      "cell_type": "code",
      "source": [
        "sorted(dict.items(), key=lambda kv:(kv[1],kv[0]))"
      ],
      "metadata": {
        "colab": {
          "base_uri": "https://localhost:8080/"
        },
        "id": "0qE4I5-zUIwl",
        "outputId": "9074130f-7106-4a83-fd0c-16bb9bfa6809"
      },
      "execution_count": null,
      "outputs": [
        {
          "output_type": "execute_result",
          "data": {
            "text/plain": [
              "[('yash', 2), ('rajnish', 9), ('ravi', 10), ('sanjeev', 15), ('suraj', 32)]"
            ]
          },
          "metadata": {},
          "execution_count": 39
        }
      ]
    },
    {
      "cell_type": "markdown",
      "source": [
        "#16.a Tiger Question\n",
        "\n",
        "inp = [1, 4, 5, 1, 1, 7, 8, 8, 4]<br>\n",
        "out = [1, 1, 1, 8, 8, 4, 4, 7, 5] "
      ],
      "metadata": {
        "id": "_e1b6c_1YFlH"
      }
    },
    {
      "cell_type": "code",
      "execution_count": null,
      "metadata": {
        "id": "40v1uZwBIkJY"
      },
      "outputs": [],
      "source": [
        "inp = [1, 4, 5, 1, 1, 7, 8, 8, 4]\n",
        "out = [1, 1, 1, 8, 8, 4, 4, 7, 5] "
      ]
    },
    {
      "cell_type": "code",
      "source": [
        "temp_dict = {}\n",
        "for i in inp:\n",
        "  if i in temp_dict.keys():\n",
        "    temp_dict[i] += 1\n",
        "  else:\n",
        "    temp_dict[i] = 1\n",
        "temp_dict"
      ],
      "metadata": {
        "id": "8ebDO8ivIlfe",
        "colab": {
          "base_uri": "https://localhost:8080/"
        },
        "outputId": "6e387dc4-53c7-4d63-c651-7a023c2661ba"
      },
      "execution_count": null,
      "outputs": [
        {
          "output_type": "execute_result",
          "data": {
            "text/plain": [
              "{1: 3, 4: 2, 5: 1, 7: 1, 8: 2}"
            ]
          },
          "metadata": {},
          "execution_count": 42
        }
      ]
    },
    {
      "cell_type": "code",
      "source": [
        "temp_out = sorted(temp_dict.items(), key=lambda kv:(kv[1], kv[0]), reverse=True)\n",
        "temp_out"
      ],
      "metadata": {
        "colab": {
          "base_uri": "https://localhost:8080/"
        },
        "id": "UoJEPDj5WuTu",
        "outputId": "7ff22819-6a9f-4dd4-fc1b-415f42a98d8b"
      },
      "execution_count": null,
      "outputs": [
        {
          "output_type": "execute_result",
          "data": {
            "text/plain": [
              "[(1, 3), (8, 2), (4, 2), (7, 1), (5, 1)]"
            ]
          },
          "metadata": {},
          "execution_count": 43
        }
      ]
    },
    {
      "cell_type": "code",
      "source": [
        "lst = []\n",
        "for i in temp_out:\n",
        "  lst.append([i[0]]*i[1])\n",
        "print(lst)\n",
        "[val for sublist in lst for val in sublist]"
      ],
      "metadata": {
        "colab": {
          "base_uri": "https://localhost:8080/"
        },
        "id": "qIkOEyEQYaWP",
        "outputId": "2ffbaf50-0211-4865-dc7e-86d6062d1287"
      },
      "execution_count": null,
      "outputs": [
        {
          "output_type": "stream",
          "name": "stdout",
          "text": [
            "[[1, 1, 1], [8, 8], [4, 4], [7], [5]]\n"
          ]
        },
        {
          "output_type": "execute_result",
          "data": {
            "text/plain": [
              "[1, 1, 1, 8, 8, 4, 4, 7, 5]"
            ]
          },
          "metadata": {},
          "execution_count": 63
        }
      ]
    },
    {
      "cell_type": "code",
      "source": [
        "import numpy as np\n",
        "np.concatenate(lst).ravel()"
      ],
      "metadata": {
        "colab": {
          "base_uri": "https://localhost:8080/"
        },
        "id": "lpwSYfiTjyeS",
        "outputId": "b0b513d9-d99e-49c9-d080-393d6504232c"
      },
      "execution_count": null,
      "outputs": [
        {
          "output_type": "execute_result",
          "data": {
            "text/plain": [
              "array([1, 1, 1, 8, 8, 4, 4, 7, 5])"
            ]
          },
          "metadata": {},
          "execution_count": 66
        }
      ]
    },
    {
      "cell_type": "markdown",
      "source": [
        "##b.\n",
        "\n",
        "int = ccaacbbaacc<br>\n",
        "out = cab"
      ],
      "metadata": {
        "id": "NKZk9YmtikAI"
      }
    },
    {
      "cell_type": "code",
      "source": [
        "Int = \"ccaacbbaacc\"\n",
        "temp_dict = {}\n",
        "for i in Int:\n",
        "  if i in temp_dict.keys():\n",
        "    temp_dict[i] += 1\n",
        "  else:\n",
        "    temp_dict[i] = 1\n",
        "temp_dict"
      ],
      "metadata": {
        "id": "hduL20wfHKvZ",
        "colab": {
          "base_uri": "https://localhost:8080/"
        },
        "outputId": "75cb4cfa-ba38-4a72-b8a4-34a804850370"
      },
      "execution_count": null,
      "outputs": [
        {
          "output_type": "execute_result",
          "data": {
            "text/plain": [
              "{'a': 4, 'b': 2, 'c': 5}"
            ]
          },
          "metadata": {},
          "execution_count": 58
        }
      ]
    },
    {
      "cell_type": "code",
      "source": [
        "out = sorted(temp_dict.items(), key=lambda kv:(kv[1],kv[0]), reverse=True)\n",
        "out"
      ],
      "metadata": {
        "colab": {
          "base_uri": "https://localhost:8080/"
        },
        "id": "SBV1fSFAiaoL",
        "outputId": "09c0f598-80f2-475f-bfb3-270b4e939eb8"
      },
      "execution_count": null,
      "outputs": [
        {
          "output_type": "execute_result",
          "data": {
            "text/plain": [
              "[('c', 5), ('a', 4), ('b', 2)]"
            ]
          },
          "metadata": {},
          "execution_count": 61
        }
      ]
    },
    {
      "cell_type": "code",
      "source": [
        "Str = ''\n",
        "for i in out:\n",
        "  Str = Str + i[0]\n",
        "Str"
      ],
      "metadata": {
        "colab": {
          "base_uri": "https://localhost:8080/",
          "height": 35
        },
        "id": "OVuHjCX3ialT",
        "outputId": "ae6b2c14-4488-4954-a1d7-51573b5eea69"
      },
      "execution_count": null,
      "outputs": [
        {
          "output_type": "execute_result",
          "data": {
            "text/plain": [
              "'cab'"
            ],
            "application/vnd.google.colaboratory.intrinsic+json": {
              "type": "string"
            }
          },
          "metadata": {},
          "execution_count": 62
        }
      ]
    },
    {
      "cell_type": "code",
      "source": [
        "a={2:1,4:54,1:32,5:54,3:32}\n",
        "#for i in sorted(a.values()):\n",
        "d={}\n",
        "for i in sorted(a.values()):\n",
        "    for k in (a.keys()):\n",
        "        if k in d:\n",
        "            continue\n",
        "        else:\n",
        "            if a[k]==i:\n",
        "                d[k]=i\n",
        "                break\n",
        "print(d)"
      ],
      "metadata": {
        "id": "BNGCZlLkjnCH",
        "outputId": "31abdd62-3a63-4928-b75b-b12e94d12d04",
        "colab": {
          "base_uri": "https://localhost:8080/"
        }
      },
      "execution_count": null,
      "outputs": [
        {
          "output_type": "stream",
          "name": "stdout",
          "text": [
            "{2: 1, 1: 32, 3: 32, 4: 54, 5: 54}\n"
          ]
        }
      ]
    },
    {
      "cell_type": "code",
      "source": [
        ""
      ],
      "metadata": {
        "id": "W9GDb709oOKZ"
      },
      "execution_count": null,
      "outputs": []
    },
    {
      "cell_type": "markdown",
      "source": [
        "#TVS "
      ],
      "metadata": {
        "id": "6i7CEGGJoY9A"
      }
    },
    {
      "cell_type": "markdown",
      "source": [
        ""
      ],
      "metadata": {
        "id": "NPwgGYq7oY6h"
      }
    },
    {
      "cell_type": "code",
      "source": [
        "l1 = [1,3,5,2,3,4,6,8,0]\n",
        "l2 = [2,5,7,9,2,6]"
      ],
      "metadata": {
        "id": "RnAXdzE66lXH"
      },
      "execution_count": null,
      "outputs": []
    },
    {
      "cell_type": "code",
      "source": [
        "A = [[l1[i+3*j] for i in range(3)] for j in range(3)]\n",
        "B = [[l2[i+2*j] for i in range(2)] for j in range(3)]\n",
        "A,B"
      ],
      "metadata": {
        "colab": {
          "base_uri": "https://localhost:8080/"
        },
        "id": "rHW3oR4a6lLA",
        "outputId": "1476c65c-1060-4bb0-abb5-f6f0c7ed9321"
      },
      "execution_count": null,
      "outputs": [
        {
          "output_type": "execute_result",
          "data": {
            "text/plain": [
              "([[1, 3, 5], [2, 3, 4], [6, 8, 0]], [[2, 5], [7, 9], [2, 6]])"
            ]
          },
          "metadata": {},
          "execution_count": 7
        }
      ]
    },
    {
      "cell_type": "code",
      "source": [
        "# C = [[0 for j in range(2)] for i in range(3)]\t#Matrix multiplication\n",
        "# for m in range(len(A)):    \n",
        "#    for n in range(len(B[0])):    \n",
        "#           for o in range(len(B)):    \n",
        "#                C[m][n] += A[m][o] * B[o][n] \n",
        "# C"
      ],
      "metadata": {
        "id": "HlrLgV4Trt_R"
      },
      "execution_count": null,
      "outputs": []
    },
    {
      "cell_type": "code",
      "source": [
        "# def mergeMatrix(A, B):\n",
        "C = [[0 for j in range(3+2)] for i in range(3)]\t\n",
        "for i in range(3):\n",
        "  for j in range(3):\t\t\t\n",
        "    C[i][j] = A[i][j]\t          \n",
        "for i in range(3):\n",
        "  for j in range(2):\t\t\t\n",
        "    C[i][j + 3] = B[i][j]\n",
        "#     return C\n",
        "# C =\tmergeMatrix(A, B)\n",
        "C"
      ],
      "metadata": {
        "colab": {
          "base_uri": "https://localhost:8080/"
        },
        "id": "0ZYflXn0BCUR",
        "outputId": "eaf5adbc-d6e1-4b5c-fda3-c79df9371a24"
      },
      "execution_count": null,
      "outputs": [
        {
          "output_type": "execute_result",
          "data": {
            "text/plain": [
              "[[1, 3, 5, 2, 5], [2, 3, 4, 7, 9], [6, 8, 0, 2, 6]]"
            ]
          },
          "metadata": {},
          "execution_count": 9
        }
      ]
    },
    {
      "cell_type": "code",
      "source": [
        "[1,2,3,4]+[0]"
      ],
      "metadata": {
        "colab": {
          "base_uri": "https://localhost:8080/"
        },
        "id": "fpg2l8uevWHO",
        "outputId": "8e241655-5265-4061-b16f-f0578d18b821"
      },
      "execution_count": null,
      "outputs": [
        {
          "output_type": "execute_result",
          "data": {
            "text/plain": [
              "[1, 2, 3, 4, 0]"
            ]
          },
          "metadata": {},
          "execution_count": 21
        }
      ]
    },
    {
      "cell_type": "code",
      "source": [
        "D = [[C[j][i] for j in range(len(C))] for i in range(len(C[0]))] #Transpose\n",
        "D"
      ],
      "metadata": {
        "id": "XgwvhtuCBYvC"
      },
      "execution_count": null,
      "outputs": []
    },
    {
      "cell_type": "code",
      "source": [
        "flist = lambda y: [x for a in y for x in flist(a)] if type(y) is list else [y]\n",
        "D= flist(D)\n",
        "D"
      ],
      "metadata": {
        "colab": {
          "base_uri": "https://localhost:8080/"
        },
        "id": "wgyT0SKgwbcU",
        "outputId": "79d22700-d26e-4d02-93a1-8159b42db857"
      },
      "execution_count": null,
      "outputs": [
        {
          "output_type": "execute_result",
          "data": {
            "text/plain": [
              "[1, 2, 6, 3, 3, 8, 5, 4, 0, 2, 7, 2, 5, 9, 6]"
            ]
          },
          "metadata": {},
          "execution_count": 23
        }
      ]
    },
    {
      "cell_type": "code",
      "source": [
        "F = [[0 for j in range(6)] for i in range(3)]\t## columnwise wise merging\n",
        "for i in range(3):\n",
        "  for j in range(5):\t\t\t\n",
        "    F[i][j] = C[i][j]\t          \n",
        "for i in range(3):\n",
        "  for j in range(1):\t\t\t\n",
        "    F[i][j + 5] = E[i][j]"
      ],
      "metadata": {
        "id": "Rv7QJK2m_n0t"
      },
      "execution_count": null,
      "outputs": []
    },
    {
      "cell_type": "code",
      "source": [
        "E1 = [[0 for i in range(1)] for j in range(5)]\n",
        "E1"
      ],
      "metadata": {
        "colab": {
          "base_uri": "https://localhost:8080/"
        },
        "id": "kLh8NN1iAWWk",
        "outputId": "98576a2a-e3fb-4694-db44-018714b0bacc"
      },
      "execution_count": null,
      "outputs": [
        {
          "output_type": "execute_result",
          "data": {
            "text/plain": [
              "[[0], [0], [0], [0], [0]]"
            ]
          },
          "metadata": {},
          "execution_count": 27
        }
      ]
    },
    {
      "cell_type": "code",
      "source": [
        "G = [[0 for j in range(5)] for i in range(4)]\t## Rowwise merging\n",
        "for i in range(3):\n",
        "  for j in range(5):\t\t\t\n",
        "    G[i][j] = C[i][j]\t          \n",
        "    # for i in range(5):\n",
        "for j in range(5):\t\t\t\n",
        "    G[3][j] = E1[j][0]\n",
        "G"
      ],
      "metadata": {
        "colab": {
          "base_uri": "https://localhost:8080/"
        },
        "id": "6N-HReE6ITjQ",
        "outputId": "07a90d37-365c-451a-fdd4-39be33ef2219"
      },
      "execution_count": null,
      "outputs": [
        {
          "output_type": "execute_result",
          "data": {
            "text/plain": [
              "[[1, 3, 5, 2, 5], [2, 3, 4, 7, 9], [6, 8, 0, 2, 6], [0, 0, 0, 0, 0]]"
            ]
          },
          "metadata": {},
          "execution_count": 28
        }
      ]
    },
    {
      "cell_type": "code",
      "source": [
        "sumRow = []\n",
        "for i in range(0, 6):  \n",
        "    sum = 0\n",
        "    for j in range(0, 3):  \n",
        "        sum = sum + F[j][i];\n",
        "    sumRow.append(sum) \n",
        "sumRow"
      ],
      "metadata": {
        "colab": {
          "base_uri": "https://localhost:8080/"
        },
        "id": "n0x1p0KD1CwL",
        "outputId": "67818ba2-3c5b-4426-9305-fd4febdd9526"
      },
      "execution_count": null,
      "outputs": [
        {
          "output_type": "execute_result",
          "data": {
            "text/plain": [
              "[9, 14, 9, 11, 20, 0]"
            ]
          },
          "metadata": {},
          "execution_count": 30
        }
      ]
    },
    {
      "cell_type": "code",
      "source": [
        "sumCol = []\n",
        "for i in range(3):  \n",
        "    sum = 0\n",
        "    for j in range(6):  \n",
        "        sum = sum + F[i][j];\n",
        "    sumCol.append(sum) \n",
        "sumCol"
      ],
      "metadata": {
        "colab": {
          "base_uri": "https://localhost:8080/"
        },
        "id": "oJG7SfbmM3L5",
        "outputId": "1445f79e-753d-4fe5-ebf1-f006dd58617b"
      },
      "execution_count": null,
      "outputs": [
        {
          "output_type": "execute_result",
          "data": {
            "text/plain": [
              "[16, 25, 22]"
            ]
          },
          "metadata": {},
          "execution_count": 31
        }
      ]
    },
    {
      "cell_type": "code",
      "source": [
        ""
      ],
      "metadata": {
        "id": "LWW9SnCOzp_Y"
      },
      "execution_count": null,
      "outputs": []
    },
    {
      "cell_type": "code",
      "source": [
        "import re"
      ],
      "metadata": {
        "id": "dGtX2exuzp7I"
      },
      "execution_count": null,
      "outputs": []
    },
    {
      "cell_type": "code",
      "source": [
        "#text = ['I was sitting on the river bank',\n",
        " #       'all the banks are closed',\n",
        " #       'The bank of te river offers amazing view'\n",
        "text = 'The bank of te river offers amazing view'\n",
        "\n",
        "pattern = '(?=.*?river)(?=.*?bank)' #'(?<=river)(?=.*?bank)|(?<=river)(?=.*?bank)' #'(?<=river)(?=.*?bank)' #\n",
        "#\n",
        "matches = re.findall(pattern, text)\n",
        "matches"
      ],
      "metadata": {
        "colab": {
          "base_uri": "https://localhost:8080/"
        },
        "id": "3ljlzM4Ozp2v",
        "outputId": "d65f09ad-17a2-4b65-cac6-35e38ea5fa84"
      },
      "execution_count": null,
      "outputs": [
        {
          "output_type": "execute_result",
          "data": {
            "text/plain": [
              "['', '', '', '', '']"
            ]
          },
          "metadata": {},
          "execution_count": 15
        }
      ]
    }
  ]
}