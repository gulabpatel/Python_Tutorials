{
  "nbformat": 4,
  "nbformat_minor": 0,
  "metadata": {
    "colab": {
      "name": "Forms snippets",
      "provenance": [],
      "collapsed_sections": [],
      "include_colab_link": true
    },
    "kernelspec": {
      "display_name": "Python 3",
      "name": "python3"
    }
  },
  "cells": [
    {
      "cell_type": "markdown",
      "metadata": {
        "id": "view-in-github",
        "colab_type": "text"
      },
      "source": [
        "<a href=\"https://colab.research.google.com/github/gulabpatel/Python_Tutorials/blob/master/Colab_Special/Forms_snippets.ipynb\" target=\"_parent\"><img src=\"https://colab.research.google.com/assets/colab-badge.svg\" alt=\"Open In Colab\"/></a>"
      ]
    },
    {
      "cell_type": "markdown",
      "metadata": {
        "id": "TyFZFP2yN3vh"
      },
      "source": [
        "## Adding form fields\n",
        "[Forms example](https://colab.research.google.com/notebooks/forms.ipynb)\n",
        "\n",
        "Forms support multiple types of fields with type checking including sliders, date pickers, input fields, dropdown menus, and dropdown menus that allow input."
      ]
    },
    {
      "cell_type": "code",
      "metadata": {
        "id": "MFPrbLmqNDis"
      },
      "source": [
        "#@title Example form fields\n",
        "#@markdown Forms support many types of fields.\n",
        "\n",
        "no_type_checking = ' '  #@param\n",
        "string_type = 'example'  #@param {type: \"string\"}\n",
        "slider_value = 142  #@param {type: \"slider\", min: 100, max: 200}\n",
        "number = 102  #@param {type: \"number\"}\n",
        "date = '2010-11-05'  #@param {type: \"date\"}\n",
        "pick_me = \"monday\"  #@param ['monday', 'tuesday', 'wednesday', 'thursday']\n",
        "select_or_input = \"apples\" #@param [\"apples\", \"bananas\", \"oranges\"] {allow-input: true}\n",
        "#@markdown ---\n"
      ],
      "execution_count": null,
      "outputs": []
    },
    {
      "cell_type": "markdown",
      "metadata": {
        "id": "eTZpu6-mNG9j"
      },
      "source": [
        "## Hiding code\n",
        "[Forms example](https://colab.research.google.com/notebooks/forms.ipynb)\n",
        "\n",
        "The cell below will automatically load with code hidden. Double click on the form title or use the toolbar in the cell to switch from form to both."
      ]
    },
    {
      "cell_type": "code",
      "metadata": {
        "id": "aXJaZqFpNK-q"
      },
      "source": [
        "#@title Give me a name { display-mode: \"both\" }\n",
        "\n",
        "# This code will be hidden when the notebook is loaded.\n"
      ],
      "execution_count": null,
      "outputs": []
    }
  ]
}
